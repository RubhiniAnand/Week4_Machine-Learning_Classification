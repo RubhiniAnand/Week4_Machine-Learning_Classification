{
 "cells": [
  {
   "cell_type": "code",
   "execution_count": 1,
   "id": "3b93781a",
   "metadata": {},
   "outputs": [],
   "source": [
    "import pandas as pd"
   ]
  },
  {
   "cell_type": "code",
   "execution_count": 12,
   "id": "631669a8",
   "metadata": {},
   "outputs": [],
   "source": [
    "import pickle"
   ]
  },
  {
   "cell_type": "code",
   "execution_count": 13,
   "id": "f9764b2b",
   "metadata": {},
   "outputs": [],
   "source": [
    "filename=\"finalized_model_ForestClassi.sav\""
   ]
  },
  {
   "cell_type": "code",
   "execution_count": 14,
   "id": "56352421",
   "metadata": {},
   "outputs": [],
   "source": [
    "#laoding the saved model\n",
    "loaded_model=pickle.load(open(\"finalized_model_ForesClassi.sav\",'rb'))"
   ]
  },
  {
   "cell_type": "code",
   "execution_count": 21,
   "id": "eb1491da",
   "metadata": {},
   "outputs": [
    {
     "name": "stderr",
     "output_type": "stream",
     "text": [
      "C:\\Users\\Admin\\anaconda3\\Lib\\site-packages\\sklearn\\base.py:464: UserWarning: X does not have valid feature names, but RandomForestClassifier was fitted with feature names\n",
      "  warnings.warn(\n"
     ]
    }
   ],
   "source": [
    "#calling the predict() function with arguments \n",
    "result=loaded_model.predict([[46,41000,0]])"
   ]
  },
  {
   "cell_type": "code",
   "execution_count": 20,
   "id": "bb5b00b4",
   "metadata": {},
   "outputs": [
    {
     "data": {
      "text/plain": [
       "array([0], dtype=int64)"
      ]
     },
     "execution_count": 20,
     "metadata": {},
     "output_type": "execute_result"
    }
   ],
   "source": [
    "#predicted value\n",
    "result"
   ]
  },
  {
   "cell_type": "code",
   "execution_count": null,
   "id": "9ac66562",
   "metadata": {},
   "outputs": [],
   "source": []
  },
  {
   "cell_type": "code",
   "execution_count": null,
   "id": "c0dee2ec",
   "metadata": {},
   "outputs": [],
   "source": []
  }
 ],
 "metadata": {
  "kernelspec": {
   "display_name": "Python 3 (ipykernel)",
   "language": "python",
   "name": "python3"
  },
  "language_info": {
   "codemirror_mode": {
    "name": "ipython",
    "version": 3
   },
   "file_extension": ".py",
   "mimetype": "text/x-python",
   "name": "python",
   "nbconvert_exporter": "python",
   "pygments_lexer": "ipython3",
   "version": "3.11.4"
  }
 },
 "nbformat": 4,
 "nbformat_minor": 5
}
